{
 "cells": [
  {
   "cell_type": "markdown",
   "metadata": {},
   "source": [
    "## 1. Programming basics\n",
    "Before we start reading datasets and using different analytical functions we need to understand the basics \n",
    "of programming. This lesson is the minimum knowledge you must have before starting Lesson 2 Data Understanding.\n",
    "\n",
    "The lessons consist of:\n",
    "\n",
    "1. Working with Variable\n",
    "2. Working with Functions\n",
    "3. Working with Logical conditions\n",
    "4. Working with arrays\n",
    "5. Working with Loops\n",
    "6. Working with Libraries\n"
   ]
  },
  {
   "cell_type": "markdown",
   "metadata": {},
   "source": [
    "## 2. Working with variable\n",
    "With mathematics we can create expresion (eg. 2 + 3 = 5) and expresions with variable ( a + b = c) working with variables ensures that you can assign multiple values to variable. Lets work this out to a example:\n",
    "\n",
    "a = 3\n",
    "b = 4\n",
    "\n",
    "\n",
    "To call and calculate with the variable we just type in the variable and the operator(+,-,/,*)\n",
    "\n",
    "a + b = 7\n",
    "\n",
    "You can aslo assign tekst to a variable. To specify that the value you assign is a text we place the text with \n",
    "\n",
    "quotes (\"\").\n",
    "\n",
    "name = \"Erik\""
   ]
  },
  {
   "cell_type": "code",
   "execution_count": 5,
   "metadata": {},
   "outputs": [
    {
     "data": {
      "text/plain": [
       "7"
      ]
     },
     "execution_count": 5,
     "metadata": {},
     "output_type": "execute_result"
    }
   ],
   "source": [
    "#Nummeric assignment \n",
    "a = 3\n",
    "b = 4\n",
    "a + b"
   ]
  },
  {
   "cell_type": "code",
   "execution_count": 6,
   "metadata": {},
   "outputs": [
    {
     "data": {
      "text/plain": [
       "'Erik'"
      ]
     },
     "execution_count": 6,
     "metadata": {},
     "output_type": "execute_result"
    }
   ],
   "source": [
    "#Tekst assignment\n",
    "name = \"Erik\"\n",
    "name"
   ]
  },
  {
   "cell_type": "markdown",
   "metadata": {},
   "source": [
    "**Exercize 1:** Calculate the value 100 with 4 variable\n",
    "\n",
    "**Exercize 2:** Calculate the value 100 with 2 variable and a multiply operator\n",
    "\n",
    "**Exercize 3:** assign a text to a variable   "
   ]
  },
  {
   "cell_type": "markdown",
   "metadata": {},
   "source": [
    "## 3. Working with Functions\n",
    "Some times you wan't to calculate different outcomes with the same variables (eg. to calculate different rectangle). \n",
    "For the creation of a repatable process with the same variables we use a **function ** . A function consist of\n",
    "the name of the function, parameters of the function and the result of the function. \n",
    "\n",
    "**Function definition**\n",
    "\n",
    "def calculaterectangle(length,width):\n",
    "    \n",
    "    print(length * width)\n",
    "    \n",
    "\n",
    "- with the **def** we define that the variable is a function\n",
    "- variables in a function called parameters. Parameters are places within the braces sepperated with a comma\n",
    "- after the first line you put a colon\n",
    "- the **print** ensures that the result will be showed \n",
    "\n",
    "**calling a function**\n",
    "\n",
    "calculaterectangle(5,5)\n"
   ]
  },
  {
   "cell_type": "code",
   "execution_count": 18,
   "metadata": {},
   "outputs": [],
   "source": [
    "def calculaterectangle(length,width):\n",
    "    print(length * width)"
   ]
  },
  {
   "cell_type": "code",
   "execution_count": 19,
   "metadata": {},
   "outputs": [
    {
     "name": "stdout",
     "output_type": "stream",
     "text": [
      "25\n"
     ]
    }
   ],
   "source": [
    "calculaterectangle(5,5)"
   ]
  },
  {
   "cell_type": "markdown",
   "metadata": {},
   "source": [
    "## 4. Working with logical conditions\n",
    "A logical condition is a mathematicals test where the result is true (the test met the criteria) or false\n",
    "(the test does not met the criteria). A example of a conditional test is to check if the surface is a rectangel or \n",
    "a square.\n",
    "\n",
    "**Logical test definition**\n",
    "\n",
    "if(length == width):\n",
    "    \n",
    "    print(\"square\")\n",
    "\n",
    "else:\n",
    "    \n",
    "    print(\"rectangle\")\n",
    "\n",
    "\n",
    "- with the **if** the program nows that you start with the logical test\n",
    "- between the braces you define the logical test the result can only be true or false\n",
    "- end with a colon after the logical test\n",
    "- define the action if the result is true\n",
    "- Optional: **else** if the condition is false and en the line with a colon\n",
    "- Optional: the action on a new line if the condition is flase"
   ]
  },
  {
   "cell_type": "code",
   "execution_count": 2,
   "metadata": {},
   "outputs": [
    {
     "name": "stdout",
     "output_type": "stream",
     "text": [
      "rectangle\n"
     ]
    }
   ],
   "source": [
    "a = 3\n",
    "b = 4\n",
    "\n",
    "if(a == b):\n",
    "    print(\"square\")\n",
    "else:\n",
    "    print(\"rectangle\")"
   ]
  },
  {
   "cell_type": "code",
   "execution_count": null,
   "metadata": {},
   "outputs": [],
   "source": [
    "**Exercize 4:** make a function which "
   ]
  }
 ],
 "metadata": {
  "kernelspec": {
   "display_name": "Python 3",
   "language": "python",
   "name": "python3"
  },
  "language_info": {
   "codemirror_mode": {
    "name": "ipython",
    "version": 3
   },
   "file_extension": ".py",
   "mimetype": "text/x-python",
   "name": "python",
   "nbconvert_exporter": "python",
   "pygments_lexer": "ipython3",
   "version": "3.7.4"
  }
 },
 "nbformat": 4,
 "nbformat_minor": 2
}
